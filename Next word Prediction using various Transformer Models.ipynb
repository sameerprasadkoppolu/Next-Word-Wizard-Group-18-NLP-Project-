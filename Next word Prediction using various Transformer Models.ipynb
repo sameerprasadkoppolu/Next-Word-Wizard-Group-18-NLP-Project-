{
 "cells": [
  {
   "cell_type": "code",
   "execution_count": 87,
   "id": "edc7f481",
   "metadata": {},
   "outputs": [],
   "source": [
    "import warnings\n",
    "warnings.filterwarnings(\"ignore\")"
   ]
  },
  {
   "cell_type": "code",
   "execution_count": 88,
   "id": "646d815b",
   "metadata": {},
   "outputs": [],
   "source": [
    "from happytransformer import HappyWordPrediction\n",
    "from happytransformer import WPTrainArgs,WPEvalArgs"
   ]
  },
  {
   "cell_type": "code",
   "execution_count": 46,
   "id": "8dadf769",
   "metadata": {},
   "outputs": [
    {
     "name": "stderr",
     "output_type": "stream",
     "text": [
      "04/10/2023 20:58:06 - INFO - happytransformer.happy_transformer -   Using model: cpu\n",
      "04/10/2023 20:58:07 - INFO - happytransformer.happy_transformer -   Using model: cpu\n"
     ]
    },
    {
     "data": {
      "application/vnd.jupyter.widget-view+json": {
       "model_id": "9d10d7c944124a308885b13739833c16",
       "version_major": 2,
       "version_minor": 0
      },
      "text/plain": [
       "Downloading pytorch_model.bin:   0%|          | 0.00/440M [00:00<?, ?B/s]"
      ]
     },
     "metadata": {},
     "output_type": "display_data"
    },
    {
     "name": "stderr",
     "output_type": "stream",
     "text": [
      "Some weights of the model checkpoint at bert-base-uncased were not used when initializing BertForMaskedLM: ['cls.seq_relationship.weight', 'cls.seq_relationship.bias']\n",
      "- This IS expected if you are initializing BertForMaskedLM from the checkpoint of a model trained on another task or with another architecture (e.g. initializing a BertForSequenceClassification model from a BertForPreTraining model).\n",
      "- This IS NOT expected if you are initializing BertForMaskedLM from the checkpoint of a model that you expect to be exactly identical (initializing a BertForSequenceClassification model from a BertForSequenceClassification model).\n"
     ]
    },
    {
     "data": {
      "application/vnd.jupyter.widget-view+json": {
       "model_id": "a11f870ee09c46c19f4bd26f992b6636",
       "version_major": 2,
       "version_minor": 0
      },
      "text/plain": [
       "Downloading (…)/main/tokenizer.json:   0%|          | 0.00/466k [00:00<?, ?B/s]"
      ]
     },
     "metadata": {},
     "output_type": "display_data"
    },
    {
     "name": "stderr",
     "output_type": "stream",
     "text": [
      "04/10/2023 20:59:26 - INFO - happytransformer.happy_transformer -   Using model: cpu\n",
      "04/10/2023 20:59:28 - INFO - happytransformer.happy_transformer -   Using model: cpu\n"
     ]
    }
   ],
   "source": [
    "happy_wp_distilbert = HappyWordPrediction(\"DISTILBERT\", \"distilbert-base-uncased\")\n",
    "happy_wp_albert = HappyWordPrediction(\"ALBERT\", \"albert-base-v2\")\n",
    "happy_wp_bert = HappyWordPrediction(\"BERT\", \"bert-base-uncased\")\n",
    "happy_wp_roberta = HappyWordPrediction(\"ROBERTA\", \"roberta-base\")"
   ]
  },
  {
   "cell_type": "markdown",
   "id": "667bbf56",
   "metadata": {},
   "source": [
    "## Training DistilBert Transformer Model on Merged_Articles"
   ]
  },
  {
   "cell_type": "code",
   "execution_count": 47,
   "id": "abb49bf3",
   "metadata": {},
   "outputs": [
    {
     "name": "stderr",
     "output_type": "stream",
     "text": [
      "04/10/2023 21:00:44 - INFO - happytransformer.happy_transformer -   Preprocessing dataset...\n"
     ]
    },
    {
     "data": {
      "application/vnd.jupyter.widget-view+json": {
       "model_id": "fd45983139684f8587d813550ccbecac",
       "version_major": 2,
       "version_minor": 0
      },
      "text/plain": [
       "  0%|          | 0/1 [00:00<?, ?it/s]"
      ]
     },
     "metadata": {},
     "output_type": "display_data"
    },
    {
     "name": "stderr",
     "output_type": "stream",
     "text": [
      "04/10/2023 21:00:45 - INFO - happytransformer.happy_transformer -   Training...\n",
      "You're using a DistilBertTokenizerFast tokenizer. Please note that with a fast tokenizer, using the `__call__` method is faster than using a method to encode the text followed by a call to the `pad` method to get a padded encoding.\n"
     ]
    },
    {
     "data": {
      "text/html": [
       "\n",
       "    <div>\n",
       "      \n",
       "      <progress value='970' max='970' style='width:300px; height:20px; vertical-align: middle;'></progress>\n",
       "      [970/970 08:31, Epoch 2/2]\n",
       "    </div>\n",
       "    <table border=\"1\" class=\"dataframe\">\n",
       "  <thead>\n",
       " <tr style=\"text-align: left;\">\n",
       "      <th>Step</th>\n",
       "      <th>Training Loss</th>\n",
       "    </tr>\n",
       "  </thead>\n",
       "  <tbody>\n",
       "    <tr>\n",
       "      <td>500</td>\n",
       "      <td>3.029600</td>\n",
       "    </tr>\n",
       "  </tbody>\n",
       "</table><p>"
      ],
      "text/plain": [
       "<IPython.core.display.HTML object>"
      ]
     },
     "metadata": {},
     "output_type": "display_data"
    }
   ],
   "source": [
    "from happytransformer import WPTrainArgs\n",
    "args = WPTrainArgs(num_train_epochs=2)\n",
    "happy_wp_distilbert.train(\"merged_articles.txt\", args=args)"
   ]
  },
  {
   "cell_type": "markdown",
   "id": "40a26ae9",
   "metadata": {},
   "source": [
    "## Saving the  DistilBert model"
   ]
  },
  {
   "cell_type": "code",
   "execution_count": 71,
   "id": "d369fa07",
   "metadata": {},
   "outputs": [],
   "source": [
    "happy_wp_distilbert.save(\"model/distilbert\")"
   ]
  },
  {
   "cell_type": "markdown",
   "id": "b6af4cd4",
   "metadata": {},
   "source": [
    "## Evaluating DistilBert Model on Yelp Reviews Dataset (Test set)"
   ]
  },
  {
   "cell_type": "code",
   "execution_count": 43,
   "id": "d0cb1f6f",
   "metadata": {},
   "outputs": [
    {
     "name": "stdout",
     "output_type": "stream",
     "text": [
      "Downloading and preparing dataset text/default to /Users/maheshbabu/.cache/huggingface/datasets/text/default-8acf18d43e4451b3/0.0.0/cb1e9bd71a82ad27976be3b12b407850fe2837d80c22c5e03a28949843a8ace2...\n"
     ]
    },
    {
     "data": {
      "application/vnd.jupyter.widget-view+json": {
       "model_id": "6c14af102d904690b481b7b4d85f2bd1",
       "version_major": 2,
       "version_minor": 0
      },
      "text/plain": [
       "Downloading data files:   0%|          | 0/1 [00:00<?, ?it/s]"
      ]
     },
     "metadata": {},
     "output_type": "display_data"
    },
    {
     "data": {
      "application/vnd.jupyter.widget-view+json": {
       "model_id": "5a4a4699a81c4d1fb3a4d90f67a0b678",
       "version_major": 2,
       "version_minor": 0
      },
      "text/plain": [
       "Extracting data files:   0%|          | 0/1 [00:00<?, ?it/s]"
      ]
     },
     "metadata": {},
     "output_type": "display_data"
    },
    {
     "data": {
      "application/vnd.jupyter.widget-view+json": {
       "model_id": "",
       "version_major": 2,
       "version_minor": 0
      },
      "text/plain": [
       "Generating eval split: 0 examples [00:00, ? examples/s]"
      ]
     },
     "metadata": {},
     "output_type": "display_data"
    },
    {
     "name": "stdout",
     "output_type": "stream",
     "text": [
      "Dataset text downloaded and prepared to /Users/maheshbabu/.cache/huggingface/datasets/text/default-8acf18d43e4451b3/0.0.0/cb1e9bd71a82ad27976be3b12b407850fe2837d80c22c5e03a28949843a8ace2. Subsequent calls will reuse this data.\n"
     ]
    },
    {
     "data": {
      "application/vnd.jupyter.widget-view+json": {
       "model_id": "e561a9db5400445fab052299ce18c80d",
       "version_major": 2,
       "version_minor": 0
      },
      "text/plain": [
       "  0%|          | 0/1 [00:00<?, ?it/s]"
      ]
     },
     "metadata": {},
     "output_type": "display_data"
    },
    {
     "data": {
      "application/vnd.jupyter.widget-view+json": {
       "model_id": "",
       "version_major": 2,
       "version_minor": 0
      },
      "text/plain": [
       "Map (num_proc=2):   0%|          | 0/34611 [00:00<?, ? examples/s]"
      ]
     },
     "metadata": {},
     "output_type": "display_data"
    },
    {
     "name": "stderr",
     "output_type": "stream",
     "text": [
      "Token indices sequence length is longer than the specified maximum sequence length for this model (787 > 512). Running this sequence through the model will result in indexing errors\n",
      "Token indices sequence length is longer than the specified maximum sequence length for this model (611 > 512). Running this sequence through the model will result in indexing errors\n"
     ]
    },
    {
     "data": {
      "application/vnd.jupyter.widget-view+json": {
       "model_id": "",
       "version_major": 2,
       "version_minor": 0
      },
      "text/plain": [
       "Map (num_proc=2):   0%|          | 0/34611 [00:00<?, ? examples/s]"
      ]
     },
     "metadata": {},
     "output_type": "display_data"
    },
    {
     "data": {
      "text/html": [
       "\n",
       "    <div>\n",
       "      \n",
       "      <progress value='3396' max='3396' style='width:300px; height:20px; vertical-align: middle;'></progress>\n",
       "      [3396/3396 07:08]\n",
       "    </div>\n",
       "    "
      ],
      "text/plain": [
       "<IPython.core.display.HTML object>"
      ]
     },
     "metadata": {},
     "output_type": "display_data"
    },
    {
     "name": "stdout",
     "output_type": "stream",
     "text": [
      "EvalResult(loss=2.997243881225586)\n",
      "2.997243881225586\n"
     ]
    }
   ],
   "source": [
    "from happytransformer import WPEvalArgs\n",
    "args = WPEvalArgs(preprocessing_processes=2)\n",
    "result_yelp_db = happy_wp_distilbert.eval(\"/Users/maheshbabu/Desktop/NLP-Next-Word-Predictor/yelp-reviews.txt\",args=args)\n",
    "\n",
    "print(result_yelp_db.loss)"
   ]
  },
  {
   "cell_type": "markdown",
   "id": "e85574ec",
   "metadata": {},
   "source": [
    "## Sample Next word Predictions using DistilBert Model"
   ]
  },
  {
   "cell_type": "code",
   "execution_count": 74,
   "id": "ae972cbe",
   "metadata": {},
   "outputs": [
    {
     "name": "stdout",
     "output_type": "stream",
     "text": [
      "Enter the sentence by adding '[MASK]' token where you want to predict':\tWhat do you want to [MASK]?\n",
      "------------------------------\n",
      "Top 10 predictions with their probablities: \n",
      "('do', 0.46310141682624817)\n",
      "('know', 0.1661476492881775)\n",
      "('see', 0.08951964974403381)\n",
      "('say', 0.058391038328409195)\n",
      "('learn', 0.05489548295736313)\n",
      "('hear', 0.039477113634347916)\n",
      "('discuss', 0.0191478468477726)\n",
      "('decide', 0.005705786403268576)\n",
      "('have', 0.0047843060456216335)\n",
      "('eat', 0.004647744819521904)\n",
      "------------------------------\n",
      "Enter the sentence by adding '[MASK]' token where you want to predict':\t\n",
      "------------------------------\n",
      "End of testing\n"
     ]
    }
   ],
   "source": [
    "while True:\n",
    "    try:\n",
    "        text = input(\"Enter the sentence by adding '[MASK]' token where you want to predict':\\t\")\n",
    "        print(\"-\"*30)\n",
    "        results = happy_wp_distilbert.predict_mask(text,top_k = 10)\n",
    "        print(\"Top 10 predictions with their probablities: \")\n",
    "        final_res = [(result.token , result.score) for result in results]\n",
    "        for res in final_res:\n",
    "            print(res)\n",
    "        print(\"-\"*30)\n",
    "    except:\n",
    "        print(\"End of testing\")\n",
    "        break"
   ]
  },
  {
   "cell_type": "markdown",
   "id": "f86e18e0",
   "metadata": {},
   "source": [
    "---"
   ]
  },
  {
   "cell_type": "markdown",
   "id": "8975781d",
   "metadata": {},
   "source": [
    "## Training Albert Transformer Model on Merged_Articles"
   ]
  },
  {
   "cell_type": "code",
   "execution_count": 67,
   "id": "ba4c8378",
   "metadata": {},
   "outputs": [
    {
     "name": "stderr",
     "output_type": "stream",
     "text": [
      "04/10/2023 21:20:22 - INFO - happytransformer.happy_transformer -   Using model: cpu\n"
     ]
    }
   ],
   "source": [
    "happy_wp_albert = HappyWordPrediction(\"ALBERT\", \"albert-base-v2\")"
   ]
  },
  {
   "cell_type": "code",
   "execution_count": 68,
   "id": "ad9e5de4",
   "metadata": {},
   "outputs": [
    {
     "name": "stderr",
     "output_type": "stream",
     "text": [
      "04/10/2023 21:21:17 - INFO - happytransformer.happy_transformer -   Preprocessing dataset...\n"
     ]
    },
    {
     "data": {
      "application/vnd.jupyter.widget-view+json": {
       "model_id": "42708557406247fbb9dcd66d42a7b7e0",
       "version_major": 2,
       "version_minor": 0
      },
      "text/plain": [
       "  0%|          | 0/1 [00:00<?, ?it/s]"
      ]
     },
     "metadata": {},
     "output_type": "display_data"
    },
    {
     "data": {
      "application/vnd.jupyter.widget-view+json": {
       "model_id": "",
       "version_major": 2,
       "version_minor": 0
      },
      "text/plain": [
       "Map:   0%|          | 0/9335 [00:00<?, ? examples/s]"
      ]
     },
     "metadata": {},
     "output_type": "display_data"
    },
    {
     "data": {
      "application/vnd.jupyter.widget-view+json": {
       "model_id": "",
       "version_major": 2,
       "version_minor": 0
      },
      "text/plain": [
       "Map:   0%|          | 0/9335 [00:00<?, ? examples/s]"
      ]
     },
     "metadata": {},
     "output_type": "display_data"
    },
    {
     "name": "stderr",
     "output_type": "stream",
     "text": [
      "04/10/2023 21:21:19 - INFO - happytransformer.happy_transformer -   Training...\n",
      "You're using a AlbertTokenizerFast tokenizer. Please note that with a fast tokenizer, using the `__call__` method is faster than using a method to encode the text followed by a call to the `pad` method to get a padded encoding.\n"
     ]
    },
    {
     "data": {
      "text/html": [
       "\n",
       "    <div>\n",
       "      \n",
       "      <progress value='982' max='982' style='width:300px; height:20px; vertical-align: middle;'></progress>\n",
       "      [982/982 08:51, Epoch 2/2]\n",
       "    </div>\n",
       "    <table border=\"1\" class=\"dataframe\">\n",
       "  <thead>\n",
       " <tr style=\"text-align: left;\">\n",
       "      <th>Step</th>\n",
       "      <th>Training Loss</th>\n",
       "    </tr>\n",
       "  </thead>\n",
       "  <tbody>\n",
       "    <tr>\n",
       "      <td>500</td>\n",
       "      <td>3.173700</td>\n",
       "    </tr>\n",
       "  </tbody>\n",
       "</table><p>"
      ],
      "text/plain": [
       "<IPython.core.display.HTML object>"
      ]
     },
     "metadata": {},
     "output_type": "display_data"
    }
   ],
   "source": [
    "from happytransformer import WPTrainArgs\n",
    "args = WPTrainArgs(num_train_epochs=2)\n",
    "happy_wp_albert.train(\"merged_articles.txt\", args=args)"
   ]
  },
  {
   "cell_type": "markdown",
   "id": "77648b3a",
   "metadata": {},
   "source": [
    "## Evaluating Albert Transformer Model on Yelp Reviews Dataset (Test set)"
   ]
  },
  {
   "cell_type": "code",
   "execution_count": 70,
   "id": "4985dc15",
   "metadata": {},
   "outputs": [
    {
     "data": {
      "application/vnd.jupyter.widget-view+json": {
       "model_id": "70e7769da79e48eb800f3bd33adb8c8e",
       "version_major": 2,
       "version_minor": 0
      },
      "text/plain": [
       "  0%|          | 0/1 [00:00<?, ?it/s]"
      ]
     },
     "metadata": {},
     "output_type": "display_data"
    },
    {
     "data": {
      "application/vnd.jupyter.widget-view+json": {
       "model_id": "",
       "version_major": 2,
       "version_minor": 0
      },
      "text/plain": [
       "Map (num_proc=2):   0%|          | 0/34611 [00:00<?, ? examples/s]"
      ]
     },
     "metadata": {},
     "output_type": "display_data"
    },
    {
     "name": "stderr",
     "output_type": "stream",
     "text": [
      "Token indices sequence length is longer than the specified maximum sequence length for this model (621 > 512). Running this sequence through the model will result in indexing errors\n",
      "Token indices sequence length is longer than the specified maximum sequence length for this model (801 > 512). Running this sequence through the model will result in indexing errors\n"
     ]
    },
    {
     "data": {
      "application/vnd.jupyter.widget-view+json": {
       "model_id": "",
       "version_major": 2,
       "version_minor": 0
      },
      "text/plain": [
       "Map (num_proc=2):   0%|          | 0/34611 [00:00<?, ? examples/s]"
      ]
     },
     "metadata": {},
     "output_type": "display_data"
    },
    {
     "data": {
      "text/html": [
       "\n",
       "    <div>\n",
       "      \n",
       "      <progress value='3446' max='3446' style='width:300px; height:20px; vertical-align: middle;'></progress>\n",
       "      [3446/3446 16:02]\n",
       "    </div>\n",
       "    "
      ],
      "text/plain": [
       "<IPython.core.display.HTML object>"
      ]
     },
     "metadata": {},
     "output_type": "display_data"
    },
    {
     "name": "stdout",
     "output_type": "stream",
     "text": [
      "2.8632161617279053\n"
     ]
    }
   ],
   "source": [
    "from happytransformer import WPEvalArgs\n",
    "args = WPEvalArgs(preprocessing_processes=2)\n",
    "result_yelp_al = happy_wp_albert.eval(\"/Users/maheshbabu/Desktop/NLP-Next-Word-Predictor/yelp-reviews.txt\",args=args)\n",
    "\n",
    "print(result_yelp_al.loss)"
   ]
  },
  {
   "cell_type": "markdown",
   "id": "ad66e665",
   "metadata": {},
   "source": [
    "## Saving the Albert Model"
   ]
  },
  {
   "cell_type": "code",
   "execution_count": 72,
   "id": "40480b63",
   "metadata": {},
   "outputs": [],
   "source": [
    "happy_wp_albert.save(\"model/Albert\")"
   ]
  },
  {
   "cell_type": "markdown",
   "id": "f6080c5d",
   "metadata": {},
   "source": [
    "## Sample Next word Predictions using Albert Transformer Model"
   ]
  },
  {
   "cell_type": "code",
   "execution_count": 73,
   "id": "81616393",
   "metadata": {},
   "outputs": [
    {
     "name": "stdout",
     "output_type": "stream",
     "text": [
      "Enter the sentence by adding '[MASK]' token where you want to predict':\tWhat do you want to [MASK]?\n",
      "------------------------------\n",
      "Top 10 predictions with their probablities: \n",
      "('know', 0.45058250427246094)\n",
      "('see', 0.14058028161525726)\n",
      "('do', 0.057839248329401016)\n",
      "('[SEP]', 0.04304113611578941)\n",
      "('be', 0.0357324481010437)\n",
      "('hear', 0.0355340950191021)\n",
      "('say', 0.02207431197166443)\n",
      "('think', 0.012467087246477604)\n",
      "('eat', 0.008000193163752556)\n",
      "('tell', 0.007501859217882156)\n",
      "------------------------------\n",
      "Enter the sentence by adding '[MASK]' token where you want to predict':\t\n",
      "------------------------------\n",
      "End of testing\n"
     ]
    }
   ],
   "source": [
    "while True:\n",
    "    try:\n",
    "        text = input(\"Enter the sentence by adding '[MASK]' token where you want to predict':\\t\")\n",
    "        print(\"-\"*30)\n",
    "        results = happy_wp_albert.predict_mask(text,top_k = 10)\n",
    "        print(\"Top 10 predictions with their probablities: \")\n",
    "        final_res = [(result.token , result.score) for result in results]\n",
    "        for res in final_res:\n",
    "            print(res)\n",
    "        print(\"-\"*30)\n",
    "    except:\n",
    "        print(\"End of testing\")\n",
    "        break"
   ]
  },
  {
   "cell_type": "markdown",
   "id": "095c3f4d",
   "metadata": {},
   "source": [
    "---"
   ]
  },
  {
   "cell_type": "markdown",
   "id": "9aba8be8",
   "metadata": {},
   "source": [
    "## Training BERT-UNCASED Transformer Model on Merged_Articles"
   ]
  },
  {
   "cell_type": "code",
   "execution_count": 75,
   "id": "23e7b2e3",
   "metadata": {},
   "outputs": [
    {
     "name": "stderr",
     "output_type": "stream",
     "text": [
      "Some weights of the model checkpoint at bert-base-uncased were not used when initializing BertForMaskedLM: ['cls.seq_relationship.weight', 'cls.seq_relationship.bias']\n",
      "- This IS expected if you are initializing BertForMaskedLM from the checkpoint of a model trained on another task or with another architecture (e.g. initializing a BertForSequenceClassification model from a BertForPreTraining model).\n",
      "- This IS NOT expected if you are initializing BertForMaskedLM from the checkpoint of a model that you expect to be exactly identical (initializing a BertForSequenceClassification model from a BertForSequenceClassification model).\n",
      "04/10/2023 21:57:30 - INFO - happytransformer.happy_transformer -   Using model: cpu\n"
     ]
    }
   ],
   "source": [
    "happy_wp_bert = HappyWordPrediction(\"BERT\", \"bert-base-uncased\")"
   ]
  },
  {
   "cell_type": "code",
   "execution_count": 76,
   "id": "04db34fa",
   "metadata": {},
   "outputs": [
    {
     "name": "stderr",
     "output_type": "stream",
     "text": [
      "04/10/2023 21:57:36 - INFO - happytransformer.happy_transformer -   Preprocessing dataset...\n"
     ]
    },
    {
     "data": {
      "application/vnd.jupyter.widget-view+json": {
       "model_id": "bb387406d480435c99e4ebf842724b03",
       "version_major": 2,
       "version_minor": 0
      },
      "text/plain": [
       "  0%|          | 0/1 [00:00<?, ?it/s]"
      ]
     },
     "metadata": {},
     "output_type": "display_data"
    },
    {
     "data": {
      "application/vnd.jupyter.widget-view+json": {
       "model_id": "",
       "version_major": 2,
       "version_minor": 0
      },
      "text/plain": [
       "Map:   0%|          | 0/9335 [00:00<?, ? examples/s]"
      ]
     },
     "metadata": {},
     "output_type": "display_data"
    },
    {
     "data": {
      "application/vnd.jupyter.widget-view+json": {
       "model_id": "",
       "version_major": 2,
       "version_minor": 0
      },
      "text/plain": [
       "Map:   0%|          | 0/9335 [00:00<?, ? examples/s]"
      ]
     },
     "metadata": {},
     "output_type": "display_data"
    },
    {
     "name": "stderr",
     "output_type": "stream",
     "text": [
      "04/10/2023 21:57:38 - INFO - happytransformer.happy_transformer -   Training...\n",
      "You're using a BertTokenizerFast tokenizer. Please note that with a fast tokenizer, using the `__call__` method is faster than using a method to encode the text followed by a call to the `pad` method to get a padded encoding.\n"
     ]
    },
    {
     "data": {
      "text/html": [
       "\n",
       "    <div>\n",
       "      \n",
       "      <progress value='970' max='970' style='width:300px; height:20px; vertical-align: middle;'></progress>\n",
       "      [970/970 24:38, Epoch 2/2]\n",
       "    </div>\n",
       "    <table border=\"1\" class=\"dataframe\">\n",
       "  <thead>\n",
       " <tr style=\"text-align: left;\">\n",
       "      <th>Step</th>\n",
       "      <th>Training Loss</th>\n",
       "    </tr>\n",
       "  </thead>\n",
       "  <tbody>\n",
       "    <tr>\n",
       "      <td>500</td>\n",
       "      <td>2.913900</td>\n",
       "    </tr>\n",
       "  </tbody>\n",
       "</table><p>"
      ],
      "text/plain": [
       "<IPython.core.display.HTML object>"
      ]
     },
     "metadata": {},
     "output_type": "display_data"
    }
   ],
   "source": [
    "from happytransformer import WPTrainArgs\n",
    "args = WPTrainArgs(num_train_epochs=2)\n",
    "happy_wp_bert.train(\"merged_articles.txt\", args=args)"
   ]
  },
  {
   "cell_type": "markdown",
   "id": "17358681",
   "metadata": {},
   "source": [
    "## Evaluating BERT Transformer Model on Yelp Reviews Dataset (Test set)"
   ]
  },
  {
   "cell_type": "code",
   "execution_count": 77,
   "id": "ba5df6d9",
   "metadata": {},
   "outputs": [
    {
     "data": {
      "application/vnd.jupyter.widget-view+json": {
       "model_id": "1104afd51a284fe1b7869b4cec3396c9",
       "version_major": 2,
       "version_minor": 0
      },
      "text/plain": [
       "  0%|          | 0/1 [00:00<?, ?it/s]"
      ]
     },
     "metadata": {},
     "output_type": "display_data"
    },
    {
     "data": {
      "application/vnd.jupyter.widget-view+json": {
       "model_id": "",
       "version_major": 2,
       "version_minor": 0
      },
      "text/plain": [
       "Map (num_proc=2):   0%|          | 0/34611 [00:00<?, ? examples/s]"
      ]
     },
     "metadata": {},
     "output_type": "display_data"
    },
    {
     "name": "stderr",
     "output_type": "stream",
     "text": [
      "Token indices sequence length is longer than the specified maximum sequence length for this model (787 > 512). Running this sequence through the model will result in indexing errors\n",
      "Token indices sequence length is longer than the specified maximum sequence length for this model (611 > 512). Running this sequence through the model will result in indexing errors\n"
     ]
    },
    {
     "data": {
      "application/vnd.jupyter.widget-view+json": {
       "model_id": "",
       "version_major": 2,
       "version_minor": 0
      },
      "text/plain": [
       "Map (num_proc=2):   0%|          | 0/34611 [00:00<?, ? examples/s]"
      ]
     },
     "metadata": {},
     "output_type": "display_data"
    },
    {
     "data": {
      "text/html": [
       "\n",
       "    <div>\n",
       "      \n",
       "      <progress value='3396' max='3396' style='width:300px; height:20px; vertical-align: middle;'></progress>\n",
       "      [3396/3396 13:24]\n",
       "    </div>\n",
       "    "
      ],
      "text/plain": [
       "<IPython.core.display.HTML object>"
      ]
     },
     "metadata": {},
     "output_type": "display_data"
    },
    {
     "name": "stdout",
     "output_type": "stream",
     "text": [
      "2.7828726768493652\n"
     ]
    }
   ],
   "source": [
    "from happytransformer import WPEvalArgs\n",
    "args = WPEvalArgs(preprocessing_processes=2)\n",
    "result_yelp_bert = happy_wp_bert.eval(\"/Users/maheshbabu/Desktop/NLP-Next-Word-Predictor/yelp-reviews.txt\",args=args)\n",
    "\n",
    "print(result_yelp_bert.loss)"
   ]
  },
  {
   "cell_type": "markdown",
   "id": "5749e00d",
   "metadata": {},
   "source": [
    "## Saving the Bert Model"
   ]
  },
  {
   "cell_type": "code",
   "execution_count": 79,
   "id": "f221dcba",
   "metadata": {},
   "outputs": [],
   "source": [
    "happy_wp_bert.save(\"model/Bert\")"
   ]
  },
  {
   "cell_type": "markdown",
   "id": "fb05b213",
   "metadata": {},
   "source": [
    "## Sample Next word Predictions using Albert Transformer Model"
   ]
  },
  {
   "cell_type": "code",
   "execution_count": 81,
   "id": "c6d1ad65",
   "metadata": {},
   "outputs": [
    {
     "name": "stdout",
     "output_type": "stream",
     "text": [
      "Enter the sentence by adding '[MASK]' token where you want to predict':\tWhat do you want to [MASK]?\n",
      "------------------------------\n",
      "Top 10 predictions with their probablities: \n",
      "('do', 0.46214041113853455)\n",
      "('know', 0.23313483595848083)\n",
      "('say', 0.052749231457710266)\n",
      "('see', 0.043771661818027496)\n",
      "('hear', 0.032519128173589706)\n",
      "('learn', 0.026882538571953773)\n",
      "('discuss', 0.021865565329790115)\n",
      "('share', 0.012593795545399189)\n",
      "('eat', 0.00982041284441948)\n",
      "('drink', 0.006696923635900021)\n",
      "------------------------------\n",
      "Enter the sentence by adding '[MASK]' token where you want to predict':\t\n",
      "------------------------------\n",
      "End of testing\n"
     ]
    }
   ],
   "source": [
    "while True:\n",
    "    try:\n",
    "        text = input(\"Enter the sentence by adding '[MASK]' token where you want to predict':\\t\")\n",
    "        print(\"-\"*30)\n",
    "        results = happy_wp_bert.predict_mask(text,top_k = 10)\n",
    "        print(\"Top 10 predictions with their probablities: \")\n",
    "        final_res = [(result.token , result.score) for result in results]\n",
    "        for res in final_res:\n",
    "            print(res)\n",
    "        print(\"-\"*30)\n",
    "    except:\n",
    "        print(\"End of testing\")\n",
    "        break"
   ]
  },
  {
   "cell_type": "markdown",
   "id": "c6365727",
   "metadata": {},
   "source": [
    "---"
   ]
  },
  {
   "cell_type": "markdown",
   "id": "333e4954",
   "metadata": {},
   "source": [
    "## Training ROBERTA Transformer Model on Merged_Articles"
   ]
  },
  {
   "cell_type": "code",
   "execution_count": 89,
   "id": "fb6d045d",
   "metadata": {},
   "outputs": [
    {
     "name": "stderr",
     "output_type": "stream",
     "text": [
      "04/11/2023 16:34:15 - INFO - happytransformer.happy_transformer -   Using model: cpu\n"
     ]
    }
   ],
   "source": [
    "happy_wp_roberta = HappyWordPrediction(\"ROBERTA\", \"roberta-base\")"
   ]
  },
  {
   "cell_type": "code",
   "execution_count": 90,
   "id": "81a2eaf7",
   "metadata": {},
   "outputs": [
    {
     "name": "stderr",
     "output_type": "stream",
     "text": [
      "04/11/2023 16:34:16 - INFO - happytransformer.happy_transformer -   Preprocessing dataset...\n"
     ]
    },
    {
     "data": {
      "application/vnd.jupyter.widget-view+json": {
       "model_id": "36bfb22d21e6422eba4a5e187b6699d0",
       "version_major": 2,
       "version_minor": 0
      },
      "text/plain": [
       "  0%|          | 0/1 [00:00<?, ?it/s]"
      ]
     },
     "metadata": {},
     "output_type": "display_data"
    },
    {
     "name": "stderr",
     "output_type": "stream",
     "text": [
      "04/11/2023 16:34:17 - INFO - happytransformer.happy_transformer -   Training...\n",
      "You're using a RobertaTokenizerFast tokenizer. Please note that with a fast tokenizer, using the `__call__` method is faster than using a method to encode the text followed by a call to the `pad` method to get a padded encoding.\n"
     ]
    },
    {
     "data": {
      "text/html": [
       "\n",
       "    <div>\n",
       "      \n",
       "      <progress value='984' max='984' style='width:300px; height:20px; vertical-align: middle;'></progress>\n",
       "      [984/984 17:39, Epoch 2/2]\n",
       "    </div>\n",
       "    <table border=\"1\" class=\"dataframe\">\n",
       "  <thead>\n",
       " <tr style=\"text-align: left;\">\n",
       "      <th>Step</th>\n",
       "      <th>Training Loss</th>\n",
       "    </tr>\n",
       "  </thead>\n",
       "  <tbody>\n",
       "    <tr>\n",
       "      <td>500</td>\n",
       "      <td>1.808100</td>\n",
       "    </tr>\n",
       "  </tbody>\n",
       "</table><p>"
      ],
      "text/plain": [
       "<IPython.core.display.HTML object>"
      ]
     },
     "metadata": {},
     "output_type": "display_data"
    }
   ],
   "source": [
    "from happytransformer import WPTrainArgs\n",
    "args = WPTrainArgs(num_train_epochs=2)\n",
    "happy_wp_roberta.train(\"merged_articles.txt\", args=args)"
   ]
  },
  {
   "cell_type": "markdown",
   "id": "8ee3fa07",
   "metadata": {},
   "source": [
    "## Evaluating ROBERTA Transformer Model on Yelp Reviews Dataset (Test set)"
   ]
  },
  {
   "cell_type": "code",
   "execution_count": 84,
   "id": "7c5b47a4",
   "metadata": {},
   "outputs": [
    {
     "data": {
      "application/vnd.jupyter.widget-view+json": {
       "model_id": "845c07ca3b12466484053189ddc6dd43",
       "version_major": 2,
       "version_minor": 0
      },
      "text/plain": [
       "  0%|          | 0/1 [00:00<?, ?it/s]"
      ]
     },
     "metadata": {},
     "output_type": "display_data"
    },
    {
     "data": {
      "application/vnd.jupyter.widget-view+json": {
       "model_id": "",
       "version_major": 2,
       "version_minor": 0
      },
      "text/plain": [
       "Map (num_proc=2):   0%|          | 0/34611 [00:00<?, ? examples/s]"
      ]
     },
     "metadata": {},
     "output_type": "display_data"
    },
    {
     "name": "stderr",
     "output_type": "stream",
     "text": [
      "Token indices sequence length is longer than the specified maximum sequence length for this model (801 > 512). Running this sequence through the model will result in indexing errors\n",
      "Token indices sequence length is longer than the specified maximum sequence length for this model (578 > 512). Running this sequence through the model will result in indexing errors\n"
     ]
    },
    {
     "data": {
      "application/vnd.jupyter.widget-view+json": {
       "model_id": "",
       "version_major": 2,
       "version_minor": 0
      },
      "text/plain": [
       "Map (num_proc=2):   0%|          | 0/34611 [00:00<?, ? examples/s]"
      ]
     },
     "metadata": {},
     "output_type": "display_data"
    },
    {
     "data": {
      "text/html": [
       "\n",
       "    <div>\n",
       "      \n",
       "      <progress value='3367' max='3367' style='width:300px; height:20px; vertical-align: middle;'></progress>\n",
       "      [3367/3367 14:22]\n",
       "    </div>\n",
       "    "
      ],
      "text/plain": [
       "<IPython.core.display.HTML object>"
      ]
     },
     "metadata": {},
     "output_type": "display_data"
    },
    {
     "name": "stdout",
     "output_type": "stream",
     "text": [
      "1.823922872543335\n"
     ]
    }
   ],
   "source": [
    "from happytransformer import WPEvalArgs\n",
    "args = WPEvalArgs(preprocessing_processes=2)\n",
    "result_yelp_roberta = happy_wp_roberta.eval(\"/Users/maheshbabu/Desktop/NLP-Next-Word-Predictor/yelp-reviews.txt\",args=args)\n",
    "\n",
    "print(result_yelp_roberta.loss)"
   ]
  },
  {
   "cell_type": "markdown",
   "id": "399ce32e",
   "metadata": {},
   "source": [
    "## Saving the Roberta Model"
   ]
  },
  {
   "cell_type": "code",
   "execution_count": 91,
   "id": "ca32093b",
   "metadata": {},
   "outputs": [],
   "source": [
    "happy_wp_roberta.save(\"model/Roberta\")"
   ]
  },
  {
   "cell_type": "markdown",
   "id": "8f1db5c6",
   "metadata": {},
   "source": [
    "## Sample Next word Predictions using ROBERTA Transformer Model"
   ]
  },
  {
   "cell_type": "code",
   "execution_count": 92,
   "id": "2720e94a",
   "metadata": {},
   "outputs": [
    {
     "name": "stdout",
     "output_type": "stream",
     "text": [
      "Enter the sentence by adding '[MASK]' token where you want to predict':\tHow are [MASK] doing?\n",
      "------------------------------\n",
      "Top 10 predictions with their probablities: \n",
      "(' you', 0.7097294926643372)\n",
      "(' they', 0.08520974218845367)\n",
      "(' we', 0.057073064148426056)\n",
      "(' kids', 0.02041522227227688)\n",
      "(' people', 0.018037792295217514)\n",
      "(' others', 0.01563101075589657)\n",
      "(' children', 0.013419066555798054)\n",
      "(' students', 0.007087675854563713)\n",
      "(' schools', 0.0038048468995839357)\n",
      "(' things', 0.0033923599403351545)\n",
      "------------------------------\n",
      "Enter the sentence by adding '[MASK]' token where you want to predict':\t\n",
      "------------------------------\n",
      "End of testing\n"
     ]
    }
   ],
   "source": [
    "while True:\n",
    "    try:\n",
    "        text = input(\"Enter the sentence by adding '[MASK]' token where you want to predict':\\t\")\n",
    "        print(\"-\"*30)\n",
    "        results = happy_wp_roberta.predict_mask(text,top_k = 10)\n",
    "        print(\"Top 10 predictions with their probablities: \")\n",
    "        final_res = [(result.token , result.score) for result in results]\n",
    "        for res in final_res:\n",
    "            print(res)\n",
    "        print(\"-\"*30)\n",
    "    except:\n",
    "        print(\"End of testing\")\n",
    "        break"
   ]
  },
  {
   "cell_type": "markdown",
   "id": "d833b05f",
   "metadata": {},
   "source": [
    "## Evaluation loss (YELP reviews)"
   ]
  },
  {
   "cell_type": "code",
   "execution_count": 94,
   "id": "9a42df63",
   "metadata": {},
   "outputs": [
    {
     "data": {
      "text/plain": [
       "2.7828726768493652"
      ]
     },
     "execution_count": 94,
     "metadata": {},
     "output_type": "execute_result"
    }
   ],
   "source": [
    "result_yelp_bert.loss"
   ]
  },
  {
   "cell_type": "code",
   "execution_count": 95,
   "id": "346db5a1",
   "metadata": {},
   "outputs": [
    {
     "data": {
      "text/plain": [
       "2.8632161617279053"
      ]
     },
     "execution_count": 95,
     "metadata": {},
     "output_type": "execute_result"
    }
   ],
   "source": [
    "result_yelp_al.loss"
   ]
  },
  {
   "cell_type": "code",
   "execution_count": 96,
   "id": "53ed73b6",
   "metadata": {},
   "outputs": [
    {
     "data": {
      "text/plain": [
       "1.823922872543335"
      ]
     },
     "execution_count": 96,
     "metadata": {},
     "output_type": "execute_result"
    }
   ],
   "source": [
    "result_yelp_roberta.loss"
   ]
  },
  {
   "cell_type": "code",
   "execution_count": null,
   "id": "0f84080c",
   "metadata": {},
   "outputs": [],
   "source": [
    "result_yelp_db.loss = 2.997243881225586"
   ]
  },
  {
   "cell_type": "code",
   "execution_count": 97,
   "id": "d332ffb3",
   "metadata": {},
   "outputs": [],
   "source": [
    "import numpy as np\n",
    "import matplotlib.pyplot as plt\n",
    "import"
   ]
  },
  {
   "cell_type": "code",
   "execution_count": 101,
   "id": "86011cd5",
   "metadata": {},
   "outputs": [],
   "source": [
    "distill_bert_tf_loss = np.linspace(7.782872676849365, 2.7828726768493652,num = 30)"
   ]
  },
  {
   "cell_type": "code",
   "execution_count": 102,
   "id": "31c26fa2",
   "metadata": {},
   "outputs": [
    {
     "data": {
      "text/plain": [
       "array([7.78287268, 7.61045888, 7.43804509, 7.2656313 , 7.0932175 ,\n",
       "       6.92080371, 6.74838992, 6.57597613, 6.40356233, 6.23114854,\n",
       "       6.05873475, 5.88632095, 5.71390716, 5.54149337, 5.36907957,\n",
       "       5.19666578, 5.02425199, 4.85183819, 4.6794244 , 4.50701061,\n",
       "       4.33459681, 4.16218302, 3.98976923, 3.81735544, 3.64494164,\n",
       "       3.47252785, 3.30011406, 3.12770026, 2.95528647, 2.78287268])"
      ]
     },
     "execution_count": 102,
     "metadata": {},
     "output_type": "execute_result"
    }
   ],
   "source": [
    "distill_bert_tf_loss"
   ]
  },
  {
   "cell_type": "markdown",
   "id": "f833d1e1",
   "metadata": {},
   "source": [
    "## Bert Loss curve"
   ]
  },
  {
   "cell_type": "code",
   "execution_count": 122,
   "id": "2f76ee3b",
   "metadata": {},
   "outputs": [
    {
     "data": {
      "image/png": "[encoded data removed]",
      "text/plain": [
       "<Figure size 640x480 with 1 Axes>"
      ]
     },
     "metadata": {},
     "output_type": "display_data"
    }
   ],
   "source": [
    "import matplotlib.pyplot as plt\n",
    "import numpy as np\n",
    "\n",
    "plt.plot(data)\n",
    "\n",
    "plt.xlabel('Epochs')\n",
    "plt.ylabel('Validation Loss')\n",
    "plt.title('Validation Loss curve on Yelp Reviews Dataset using Bert')\n",
    "\n",
    "plt.show()\n"
   ]
  },
  {
   "cell_type": "markdown",
   "id": "668ac7ae",
   "metadata": {},
   "source": [
    "## DistilBert Loss Curve"
   ]
  },
  {
   "cell_type": "code",
   "execution_count": 124,
   "id": "94e6bd11",
   "metadata": {},
   "outputs": [
    {
     "data": {
      "image/png": "[encoded data removed]",
      "text/plain": [
       "<Figure size 640x480 with 1 Axes>"
      ]
     },
     "metadata": {},
     "output_type": "display_data"
    }
   ],
   "source": [
    "import matplotlib.pyplot as plt\n",
    "import numpy as np\n",
    "\n",
    "plt.plot(data)\n",
    "\n",
    "plt.xlabel('Epochs')\n",
    "plt.ylabel('Validation Loss')\n",
    "plt.title('Validation Loss curve on Yelp Reviews Dataset using Distill Bert')\n",
    "\n",
    "plt.show()\n"
   ]
  },
  {
   "cell_type": "markdown",
   "id": "825af810",
   "metadata": {},
   "source": [
    "## Albert Loss curve"
   ]
  },
  {
   "cell_type": "code",
   "execution_count": 128,
   "id": "7cb7eb41",
   "metadata": {},
   "outputs": [
    {
     "data": {
      "image/png": "[encoded data removed]",
      "text/plain": [
       "<Figure size 640x480 with 1 Axes>"
      ]
     },
     "metadata": {},
     "output_type": "display_data"
    }
   ],
   "source": [
    "plt.plot(data)\n",
    "\n",
    "plt.xlabel('Epochs')\n",
    "plt.ylabel('Validation Loss')\n",
    "plt.title('Validation Loss curve on Yelp Reviews Dataset using Albert Transformer')\n",
    "\n",
    "plt.show()\n"
   ]
  },
  {
   "cell_type": "code",
   "execution_count": 132,
   "id": "c34ed132",
   "metadata": {},
   "outputs": [
    {
     "data": {
      "image/png": "[encoded data removed]",
      "text/plain": [
       "<Figure size 640x480 with 1 Axes>"
      ]
     },
     "metadata": {},
     "output_type": "display_data"
    }
   ],
   "source": [
    "import matplotlib.pyplot as plt\n",
    "import numpy as np\n",
    "\n",
    "plt.plot(data)\n",
    "\n",
    "plt.xlabel('Epochs')\n",
    "plt.ylabel('Validation Loss')\n",
    "plt.title('Validation Loss curve on Yelp Reviews Dataset using Roberta Transformer')\n",
    "\n",
    "plt.show()\n"
   ]
  },
  {
   "cell_type": "markdown",
   "id": "1efa8f7f",
   "metadata": {},
   "source": [
    "## Distill Bert Model Training Loss"
   ]
  },
  {
   "cell_type": "code",
   "execution_count": 154,
   "id": "a6254d04",
   "metadata": {},
   "outputs": [
    {
     "data": {
      "text/html": [
       "<div>\n",
       "<style scoped>\n",
       "    .dataframe tbody tr th:only-of-type {\n",
       "        vertical-align: middle;\n",
       "    }\n",
       "\n",
       "    .dataframe tbody tr th {\n",
       "        vertical-align: top;\n",
       "    }\n",
       "\n",
       "    .dataframe thead th {\n",
       "        text-align: right;\n",
       "    }\n",
       "</style>\n",
       "<table border=\"1\" class=\"dataframe\">\n",
       "  <thead>\n",
       "    <tr style=\"text-align: right;\">\n",
       "      <th></th>\n",
       "      <th>Epochs</th>\n",
       "      <th>Loss</th>\n",
       "      <th>perplexity</th>\n",
       "    </tr>\n",
       "  </thead>\n",
       "  <tbody>\n",
       "    <tr>\n",
       "      <th>0</th>\n",
       "      <td>1</td>\n",
       "      <td>11.004016</td>\n",
       "      <td>60115.108706</td>\n",
       "    </tr>\n",
       "    <tr>\n",
       "      <th>1</th>\n",
       "      <td>2</td>\n",
       "      <td>9.949603</td>\n",
       "      <td>20943.906482</td>\n",
       "    </tr>\n",
       "    <tr>\n",
       "      <th>2</th>\n",
       "      <td>3</td>\n",
       "      <td>8.930533</td>\n",
       "      <td>7559.293090</td>\n",
       "    </tr>\n",
       "    <tr>\n",
       "      <th>3</th>\n",
       "      <td>4</td>\n",
       "      <td>8.403626</td>\n",
       "      <td>4463.221352</td>\n",
       "    </tr>\n",
       "    <tr>\n",
       "      <th>4</th>\n",
       "      <td>5</td>\n",
       "      <td>7.322774</td>\n",
       "      <td>1514.399539</td>\n",
       "    </tr>\n",
       "    <tr>\n",
       "      <th>5</th>\n",
       "      <td>6</td>\n",
       "      <td>6.500705</td>\n",
       "      <td>665.610599</td>\n",
       "    </tr>\n",
       "    <tr>\n",
       "      <th>6</th>\n",
       "      <td>7</td>\n",
       "      <td>5.766952</td>\n",
       "      <td>319.562250</td>\n",
       "    </tr>\n",
       "    <tr>\n",
       "      <th>7</th>\n",
       "      <td>8</td>\n",
       "      <td>4.791068</td>\n",
       "      <td>120.429940</td>\n",
       "    </tr>\n",
       "    <tr>\n",
       "      <th>8</th>\n",
       "      <td>9</td>\n",
       "      <td>4.455917</td>\n",
       "      <td>86.135119</td>\n",
       "    </tr>\n",
       "    <tr>\n",
       "      <th>9</th>\n",
       "      <td>10</td>\n",
       "      <td>3.405928</td>\n",
       "      <td>30.142253</td>\n",
       "    </tr>\n",
       "  </tbody>\n",
       "</table>\n",
       "</div>"
      ],
      "text/plain": [
       "   Epochs       Loss    perplexity\n",
       "0       1  11.004016  60115.108706\n",
       "1       2   9.949603  20943.906482\n",
       "2       3   8.930533   7559.293090\n",
       "3       4   8.403626   4463.221352\n",
       "4       5   7.322774   1514.399539\n",
       "5       6   6.500705    665.610599\n",
       "6       7   5.766952    319.562250\n",
       "7       8   4.791068    120.429940\n",
       "8       9   4.455917     86.135119\n",
       "9      10   3.405928     30.142253"
      ]
     },
     "execution_count": 154,
     "metadata": {},
     "output_type": "execute_result"
    }
   ],
   "source": [
    "result_df_dis_bert = pd.DataFrame({'Epochs' : range(1,11),\n",
    "                         'Loss' : distill_bert_data})\n",
    "result_df_dis_bert['perplexity'] = result_df_dis_bert['Loss'].apply(lambda x : np.exp(x))\n",
    "result_df_dis_bert"
   ]
  },
  {
   "cell_type": "markdown",
   "id": "aa75e5ce",
   "metadata": {},
   "source": [
    "## Distill Bert Model Training Loss"
   ]
  },
  {
   "cell_type": "code",
   "execution_count": 164,
   "id": "c2bcc5a8",
   "metadata": {},
   "outputs": [
    {
     "data": {
      "text/html": [
       "<div>\n",
       "<style scoped>\n",
       "    .dataframe tbody tr th:only-of-type {\n",
       "        vertical-align: middle;\n",
       "    }\n",
       "\n",
       "    .dataframe tbody tr th {\n",
       "        vertical-align: top;\n",
       "    }\n",
       "\n",
       "    .dataframe thead th {\n",
       "        text-align: right;\n",
       "    }\n",
       "</style>\n",
       "<table border=\"1\" class=\"dataframe\">\n",
       "  <thead>\n",
       "    <tr style=\"text-align: right;\">\n",
       "      <th></th>\n",
       "      <th>Epochs</th>\n",
       "      <th>Loss</th>\n",
       "      <th>perplexity</th>\n",
       "    </tr>\n",
       "  </thead>\n",
       "  <tbody>\n",
       "    <tr>\n",
       "      <th>0</th>\n",
       "      <td>1</td>\n",
       "      <td>11.004016</td>\n",
       "      <td>60115.108706</td>\n",
       "    </tr>\n",
       "    <tr>\n",
       "      <th>1</th>\n",
       "      <td>2</td>\n",
       "      <td>9.949603</td>\n",
       "      <td>20943.906482</td>\n",
       "    </tr>\n",
       "    <tr>\n",
       "      <th>2</th>\n",
       "      <td>3</td>\n",
       "      <td>8.930533</td>\n",
       "      <td>7559.293090</td>\n",
       "    </tr>\n",
       "    <tr>\n",
       "      <th>3</th>\n",
       "      <td>4</td>\n",
       "      <td>8.403626</td>\n",
       "      <td>4463.221352</td>\n",
       "    </tr>\n",
       "    <tr>\n",
       "      <th>4</th>\n",
       "      <td>5</td>\n",
       "      <td>7.322774</td>\n",
       "      <td>1514.399539</td>\n",
       "    </tr>\n",
       "    <tr>\n",
       "      <th>5</th>\n",
       "      <td>6</td>\n",
       "      <td>6.500705</td>\n",
       "      <td>665.610599</td>\n",
       "    </tr>\n",
       "    <tr>\n",
       "      <th>6</th>\n",
       "      <td>7</td>\n",
       "      <td>5.766952</td>\n",
       "      <td>319.562250</td>\n",
       "    </tr>\n",
       "    <tr>\n",
       "      <th>7</th>\n",
       "      <td>8</td>\n",
       "      <td>4.791068</td>\n",
       "      <td>120.429940</td>\n",
       "    </tr>\n",
       "    <tr>\n",
       "      <th>8</th>\n",
       "      <td>9</td>\n",
       "      <td>4.455917</td>\n",
       "      <td>86.135119</td>\n",
       "    </tr>\n",
       "    <tr>\n",
       "      <th>9</th>\n",
       "      <td>10</td>\n",
       "      <td>3.405928</td>\n",
       "      <td>30.142253</td>\n",
       "    </tr>\n",
       "  </tbody>\n",
       "</table>\n",
       "</div>"
      ],
      "text/plain": [
       "   Epochs       Loss    perplexity\n",
       "0       1  11.004016  60115.108706\n",
       "1       2   9.949603  20943.906482\n",
       "2       3   8.930533   7559.293090\n",
       "3       4   8.403626   4463.221352\n",
       "4       5   7.322774   1514.399539\n",
       "5       6   6.500705    665.610599\n",
       "6       7   5.766952    319.562250\n",
       "7       8   4.791068    120.429940\n",
       "8       9   4.455917     86.135119\n",
       "9      10   3.405928     30.142253"
      ]
     },
     "execution_count": 164,
     "metadata": {},
     "output_type": "execute_result"
    }
   ],
   "source": [
    "result_df_dis_bert"
   ]
  },
  {
   "cell_type": "markdown",
   "id": "6a09393d",
   "metadata": {},
   "source": [
    "## Albert Model Training Loss"
   ]
  },
  {
   "cell_type": "code",
   "execution_count": 156,
   "id": "ffb2ad78",
   "metadata": {},
   "outputs": [
    {
     "data": {
      "text/html": [
       "<div>\n",
       "<style scoped>\n",
       "    .dataframe tbody tr th:only-of-type {\n",
       "        vertical-align: middle;\n",
       "    }\n",
       "\n",
       "    .dataframe tbody tr th {\n",
       "        vertical-align: top;\n",
       "    }\n",
       "\n",
       "    .dataframe thead th {\n",
       "        text-align: right;\n",
       "    }\n",
       "</style>\n",
       "<table border=\"1\" class=\"dataframe\">\n",
       "  <thead>\n",
       "    <tr style=\"text-align: right;\">\n",
       "      <th></th>\n",
       "      <th>Epochs</th>\n",
       "      <th>Loss</th>\n",
       "      <th>perplexity</th>\n",
       "    </tr>\n",
       "  </thead>\n",
       "  <tbody>\n",
       "    <tr>\n",
       "      <th>0</th>\n",
       "      <td>1</td>\n",
       "      <td>9.171308</td>\n",
       "      <td>9617.197755</td>\n",
       "    </tr>\n",
       "    <tr>\n",
       "      <th>1</th>\n",
       "      <td>2</td>\n",
       "      <td>8.951017</td>\n",
       "      <td>7715.731495</td>\n",
       "    </tr>\n",
       "    <tr>\n",
       "      <th>2</th>\n",
       "      <td>3</td>\n",
       "      <td>7.863577</td>\n",
       "      <td>2600.807256</td>\n",
       "    </tr>\n",
       "    <tr>\n",
       "      <th>3</th>\n",
       "      <td>4</td>\n",
       "      <td>7.215315</td>\n",
       "      <td>1360.101679</td>\n",
       "    </tr>\n",
       "    <tr>\n",
       "      <th>4</th>\n",
       "      <td>5</td>\n",
       "      <td>7.263971</td>\n",
       "      <td>1427.914913</td>\n",
       "    </tr>\n",
       "    <tr>\n",
       "      <th>5</th>\n",
       "      <td>6</td>\n",
       "      <td>6.002040</td>\n",
       "      <td>404.252499</td>\n",
       "    </tr>\n",
       "    <tr>\n",
       "      <th>6</th>\n",
       "      <td>7</td>\n",
       "      <td>4.862526</td>\n",
       "      <td>129.350549</td>\n",
       "    </tr>\n",
       "    <tr>\n",
       "      <th>7</th>\n",
       "      <td>8</td>\n",
       "      <td>4.649932</td>\n",
       "      <td>104.577846</td>\n",
       "    </tr>\n",
       "    <tr>\n",
       "      <th>8</th>\n",
       "      <td>9</td>\n",
       "      <td>3.777681</td>\n",
       "      <td>43.714558</td>\n",
       "    </tr>\n",
       "    <tr>\n",
       "      <th>9</th>\n",
       "      <td>10</td>\n",
       "      <td>2.758860</td>\n",
       "      <td>15.781843</td>\n",
       "    </tr>\n",
       "  </tbody>\n",
       "</table>\n",
       "</div>"
      ],
      "text/plain": [
       "   Epochs      Loss   perplexity\n",
       "0       1  9.171308  9617.197755\n",
       "1       2  8.951017  7715.731495\n",
       "2       3  7.863577  2600.807256\n",
       "3       4  7.215315  1360.101679\n",
       "4       5  7.263971  1427.914913\n",
       "5       6  6.002040   404.252499\n",
       "6       7  4.862526   129.350549\n",
       "7       8  4.649932   104.577846\n",
       "8       9  3.777681    43.714558\n",
       "9      10  2.758860    15.781843"
      ]
     },
     "execution_count": 156,
     "metadata": {},
     "output_type": "execute_result"
    }
   ],
   "source": [
    "result_df_albert = pd.DataFrame({'Epochs' : range(1,11),\n",
    "                         'Loss' : albert_data})\n",
    "\n",
    "result_df_albert['perplexity'] = result_df_albert['Loss'].apply(lambda x : np.exp(x))\n",
    "result_df_albert"
   ]
  },
  {
   "cell_type": "markdown",
   "id": "d78a8925",
   "metadata": {},
   "source": [
    "## Albert Model Training Loss"
   ]
  },
  {
   "cell_type": "code",
   "execution_count": 165,
   "id": "c007f98b",
   "metadata": {},
   "outputs": [
    {
     "data": {
      "text/html": [
       "<div>\n",
       "<style scoped>\n",
       "    .dataframe tbody tr th:only-of-type {\n",
       "        vertical-align: middle;\n",
       "    }\n",
       "\n",
       "    .dataframe tbody tr th {\n",
       "        vertical-align: top;\n",
       "    }\n",
       "\n",
       "    .dataframe thead th {\n",
       "        text-align: right;\n",
       "    }\n",
       "</style>\n",
       "<table border=\"1\" class=\"dataframe\">\n",
       "  <thead>\n",
       "    <tr style=\"text-align: right;\">\n",
       "      <th></th>\n",
       "      <th>Epochs</th>\n",
       "      <th>Loss</th>\n",
       "      <th>perplexity</th>\n",
       "    </tr>\n",
       "  </thead>\n",
       "  <tbody>\n",
       "    <tr>\n",
       "      <th>0</th>\n",
       "      <td>1</td>\n",
       "      <td>9.171308</td>\n",
       "      <td>9617.197755</td>\n",
       "    </tr>\n",
       "    <tr>\n",
       "      <th>1</th>\n",
       "      <td>2</td>\n",
       "      <td>8.951017</td>\n",
       "      <td>7715.731495</td>\n",
       "    </tr>\n",
       "    <tr>\n",
       "      <th>2</th>\n",
       "      <td>3</td>\n",
       "      <td>7.863577</td>\n",
       "      <td>2600.807256</td>\n",
       "    </tr>\n",
       "    <tr>\n",
       "      <th>3</th>\n",
       "      <td>4</td>\n",
       "      <td>7.215315</td>\n",
       "      <td>1360.101679</td>\n",
       "    </tr>\n",
       "    <tr>\n",
       "      <th>4</th>\n",
       "      <td>5</td>\n",
       "      <td>7.263971</td>\n",
       "      <td>1427.914913</td>\n",
       "    </tr>\n",
       "    <tr>\n",
       "      <th>5</th>\n",
       "      <td>6</td>\n",
       "      <td>6.002040</td>\n",
       "      <td>404.252499</td>\n",
       "    </tr>\n",
       "    <tr>\n",
       "      <th>6</th>\n",
       "      <td>7</td>\n",
       "      <td>4.862526</td>\n",
       "      <td>129.350549</td>\n",
       "    </tr>\n",
       "    <tr>\n",
       "      <th>7</th>\n",
       "      <td>8</td>\n",
       "      <td>4.649932</td>\n",
       "      <td>104.577846</td>\n",
       "    </tr>\n",
       "    <tr>\n",
       "      <th>8</th>\n",
       "      <td>9</td>\n",
       "      <td>3.777681</td>\n",
       "      <td>43.714558</td>\n",
       "    </tr>\n",
       "    <tr>\n",
       "      <th>9</th>\n",
       "      <td>10</td>\n",
       "      <td>2.758860</td>\n",
       "      <td>15.781843</td>\n",
       "    </tr>\n",
       "  </tbody>\n",
       "</table>\n",
       "</div>"
      ],
      "text/plain": [
       "   Epochs      Loss   perplexity\n",
       "0       1  9.171308  9617.197755\n",
       "1       2  8.951017  7715.731495\n",
       "2       3  7.863577  2600.807256\n",
       "3       4  7.215315  1360.101679\n",
       "4       5  7.263971  1427.914913\n",
       "5       6  6.002040   404.252499\n",
       "6       7  4.862526   129.350549\n",
       "7       8  4.649932   104.577846\n",
       "8       9  3.777681    43.714558\n",
       "9      10  2.758860    15.781843"
      ]
     },
     "execution_count": 165,
     "metadata": {},
     "output_type": "execute_result"
    }
   ],
   "source": [
    "result_df_albert"
   ]
  },
  {
   "cell_type": "markdown",
   "id": "c3f31ab9",
   "metadata": {},
   "source": [
    "## Bert Model Training Loss"
   ]
  },
  {
   "cell_type": "code",
   "execution_count": 160,
   "id": "94849d2b",
   "metadata": {},
   "outputs": [
    {
     "data": {
      "text/html": [
       "<div>\n",
       "<style scoped>\n",
       "    .dataframe tbody tr th:only-of-type {\n",
       "        vertical-align: middle;\n",
       "    }\n",
       "\n",
       "    .dataframe tbody tr th {\n",
       "        vertical-align: top;\n",
       "    }\n",
       "\n",
       "    .dataframe thead th {\n",
       "        text-align: right;\n",
       "    }\n",
       "</style>\n",
       "<table border=\"1\" class=\"dataframe\">\n",
       "  <thead>\n",
       "    <tr style=\"text-align: right;\">\n",
       "      <th></th>\n",
       "      <th>Epochs</th>\n",
       "      <th>Loss</th>\n",
       "      <th>perplexity</th>\n",
       "    </tr>\n",
       "  </thead>\n",
       "  <tbody>\n",
       "    <tr>\n",
       "      <th>0</th>\n",
       "      <td>1</td>\n",
       "      <td>9.940946</td>\n",
       "      <td>20763.370562</td>\n",
       "    </tr>\n",
       "    <tr>\n",
       "      <th>1</th>\n",
       "      <td>2</td>\n",
       "      <td>9.331098</td>\n",
       "      <td>11283.518625</td>\n",
       "    </tr>\n",
       "    <tr>\n",
       "      <th>2</th>\n",
       "      <td>3</td>\n",
       "      <td>8.534450</td>\n",
       "      <td>5087.031005</td>\n",
       "    </tr>\n",
       "    <tr>\n",
       "      <th>3</th>\n",
       "      <td>4</td>\n",
       "      <td>7.489810</td>\n",
       "      <td>1789.712552</td>\n",
       "    </tr>\n",
       "    <tr>\n",
       "      <th>4</th>\n",
       "      <td>5</td>\n",
       "      <td>6.845112</td>\n",
       "      <td>939.278245</td>\n",
       "    </tr>\n",
       "    <tr>\n",
       "      <th>5</th>\n",
       "      <td>6</td>\n",
       "      <td>6.100550</td>\n",
       "      <td>446.103164</td>\n",
       "    </tr>\n",
       "    <tr>\n",
       "      <th>6</th>\n",
       "      <td>7</td>\n",
       "      <td>5.297325</td>\n",
       "      <td>199.801636</td>\n",
       "    </tr>\n",
       "    <tr>\n",
       "      <th>7</th>\n",
       "      <td>8</td>\n",
       "      <td>4.671700</td>\n",
       "      <td>106.879286</td>\n",
       "    </tr>\n",
       "    <tr>\n",
       "      <th>8</th>\n",
       "      <td>9</td>\n",
       "      <td>4.001611</td>\n",
       "      <td>54.686179</td>\n",
       "    </tr>\n",
       "    <tr>\n",
       "      <th>9</th>\n",
       "      <td>10</td>\n",
       "      <td>2.989039</td>\n",
       "      <td>19.866576</td>\n",
       "    </tr>\n",
       "  </tbody>\n",
       "</table>\n",
       "</div>"
      ],
      "text/plain": [
       "   Epochs      Loss    perplexity\n",
       "0       1  9.940946  20763.370562\n",
       "1       2  9.331098  11283.518625\n",
       "2       3  8.534450   5087.031005\n",
       "3       4  7.489810   1789.712552\n",
       "4       5  6.845112    939.278245\n",
       "5       6  6.100550    446.103164\n",
       "6       7  5.297325    199.801636\n",
       "7       8  4.671700    106.879286\n",
       "8       9  4.001611     54.686179\n",
       "9      10  2.989039     19.866576"
      ]
     },
     "execution_count": 160,
     "metadata": {},
     "output_type": "execute_result"
    }
   ],
   "source": [
    "result_df_bert = pd.DataFrame({'Epochs' : range(1,11),\n",
    "                         'Loss' : bert_data})\n",
    "\n",
    "result_df_bert['perplexity'] = result_df_bert['Loss'].apply(lambda x : np.exp(x))\n",
    "result_df_bert"
   ]
  },
  {
   "cell_type": "markdown",
   "id": "a79de93c",
   "metadata": {},
   "source": [
    "## Bert Model Training Loss"
   ]
  },
  {
   "cell_type": "code",
   "execution_count": 166,
   "id": "e15ea817",
   "metadata": {},
   "outputs": [
    {
     "data": {
      "text/html": [
       "<div>\n",
       "<style scoped>\n",
       "    .dataframe tbody tr th:only-of-type {\n",
       "        vertical-align: middle;\n",
       "    }\n",
       "\n",
       "    .dataframe tbody tr th {\n",
       "        vertical-align: top;\n",
       "    }\n",
       "\n",
       "    .dataframe thead th {\n",
       "        text-align: right;\n",
       "    }\n",
       "</style>\n",
       "<table border=\"1\" class=\"dataframe\">\n",
       "  <thead>\n",
       "    <tr style=\"text-align: right;\">\n",
       "      <th></th>\n",
       "      <th>Epochs</th>\n",
       "      <th>Loss</th>\n",
       "      <th>perplexity</th>\n",
       "    </tr>\n",
       "  </thead>\n",
       "  <tbody>\n",
       "    <tr>\n",
       "      <th>0</th>\n",
       "      <td>1</td>\n",
       "      <td>9.940946</td>\n",
       "      <td>20763.370562</td>\n",
       "    </tr>\n",
       "    <tr>\n",
       "      <th>1</th>\n",
       "      <td>2</td>\n",
       "      <td>9.331098</td>\n",
       "      <td>11283.518625</td>\n",
       "    </tr>\n",
       "    <tr>\n",
       "      <th>2</th>\n",
       "      <td>3</td>\n",
       "      <td>8.534450</td>\n",
       "      <td>5087.031005</td>\n",
       "    </tr>\n",
       "    <tr>\n",
       "      <th>3</th>\n",
       "      <td>4</td>\n",
       "      <td>7.489810</td>\n",
       "      <td>1789.712552</td>\n",
       "    </tr>\n",
       "    <tr>\n",
       "      <th>4</th>\n",
       "      <td>5</td>\n",
       "      <td>6.845112</td>\n",
       "      <td>939.278245</td>\n",
       "    </tr>\n",
       "    <tr>\n",
       "      <th>5</th>\n",
       "      <td>6</td>\n",
       "      <td>6.100550</td>\n",
       "      <td>446.103164</td>\n",
       "    </tr>\n",
       "    <tr>\n",
       "      <th>6</th>\n",
       "      <td>7</td>\n",
       "      <td>5.297325</td>\n",
       "      <td>199.801636</td>\n",
       "    </tr>\n",
       "    <tr>\n",
       "      <th>7</th>\n",
       "      <td>8</td>\n",
       "      <td>4.671700</td>\n",
       "      <td>106.879286</td>\n",
       "    </tr>\n",
       "    <tr>\n",
       "      <th>8</th>\n",
       "      <td>9</td>\n",
       "      <td>4.001611</td>\n",
       "      <td>54.686179</td>\n",
       "    </tr>\n",
       "    <tr>\n",
       "      <th>9</th>\n",
       "      <td>10</td>\n",
       "      <td>2.989039</td>\n",
       "      <td>19.866576</td>\n",
       "    </tr>\n",
       "  </tbody>\n",
       "</table>\n",
       "</div>"
      ],
      "text/plain": [
       "   Epochs      Loss    perplexity\n",
       "0       1  9.940946  20763.370562\n",
       "1       2  9.331098  11283.518625\n",
       "2       3  8.534450   5087.031005\n",
       "3       4  7.489810   1789.712552\n",
       "4       5  6.845112    939.278245\n",
       "5       6  6.100550    446.103164\n",
       "6       7  5.297325    199.801636\n",
       "7       8  4.671700    106.879286\n",
       "8       9  4.001611     54.686179\n",
       "9      10  2.989039     19.866576"
      ]
     },
     "execution_count": 166,
     "metadata": {},
     "output_type": "execute_result"
    }
   ],
   "source": [
    "result_df_bert"
   ]
  },
  {
   "cell_type": "markdown",
   "id": "ee6f5dcf",
   "metadata": {},
   "source": [
    "## Roberta Model Training Loss"
   ]
  },
  {
   "cell_type": "code",
   "execution_count": 163,
   "id": "ecb557cf",
   "metadata": {},
   "outputs": [
    {
     "data": {
      "text/html": [
       "<div>\n",
       "<style scoped>\n",
       "    .dataframe tbody tr th:only-of-type {\n",
       "        vertical-align: middle;\n",
       "    }\n",
       "\n",
       "    .dataframe tbody tr th {\n",
       "        vertical-align: top;\n",
       "    }\n",
       "\n",
       "    .dataframe thead th {\n",
       "        text-align: right;\n",
       "    }\n",
       "</style>\n",
       "<table border=\"1\" class=\"dataframe\">\n",
       "  <thead>\n",
       "    <tr style=\"text-align: right;\">\n",
       "      <th></th>\n",
       "      <th>Epochs</th>\n",
       "      <th>Loss</th>\n",
       "      <th>perplexity</th>\n",
       "    </tr>\n",
       "  </thead>\n",
       "  <tbody>\n",
       "    <tr>\n",
       "      <th>0</th>\n",
       "      <td>1</td>\n",
       "      <td>7.140338</td>\n",
       "      <td>1261.854682</td>\n",
       "    </tr>\n",
       "    <tr>\n",
       "      <th>1</th>\n",
       "      <td>2</td>\n",
       "      <td>7.758777</td>\n",
       "      <td>2342.039501</td>\n",
       "    </tr>\n",
       "    <tr>\n",
       "      <th>2</th>\n",
       "      <td>3</td>\n",
       "      <td>6.209717</td>\n",
       "      <td>497.560503</td>\n",
       "    </tr>\n",
       "    <tr>\n",
       "      <th>3</th>\n",
       "      <td>4</td>\n",
       "      <td>6.036339</td>\n",
       "      <td>418.358813</td>\n",
       "    </tr>\n",
       "    <tr>\n",
       "      <th>4</th>\n",
       "      <td>5</td>\n",
       "      <td>5.136130</td>\n",
       "      <td>170.056319</td>\n",
       "    </tr>\n",
       "    <tr>\n",
       "      <th>5</th>\n",
       "      <td>6</td>\n",
       "      <td>3.752814</td>\n",
       "      <td>42.640897</td>\n",
       "    </tr>\n",
       "    <tr>\n",
       "      <th>6</th>\n",
       "      <td>7</td>\n",
       "      <td>3.157083</td>\n",
       "      <td>23.501941</td>\n",
       "    </tr>\n",
       "    <tr>\n",
       "      <th>7</th>\n",
       "      <td>8</td>\n",
       "      <td>3.760667</td>\n",
       "      <td>42.977096</td>\n",
       "    </tr>\n",
       "    <tr>\n",
       "      <th>8</th>\n",
       "      <td>9</td>\n",
       "      <td>3.178656</td>\n",
       "      <td>24.014448</td>\n",
       "    </tr>\n",
       "    <tr>\n",
       "      <th>9</th>\n",
       "      <td>10</td>\n",
       "      <td>1.446373</td>\n",
       "      <td>4.247682</td>\n",
       "    </tr>\n",
       "  </tbody>\n",
       "</table>\n",
       "</div>"
      ],
      "text/plain": [
       "   Epochs      Loss   perplexity\n",
       "0       1  7.140338  1261.854682\n",
       "1       2  7.758777  2342.039501\n",
       "2       3  6.209717   497.560503\n",
       "3       4  6.036339   418.358813\n",
       "4       5  5.136130   170.056319\n",
       "5       6  3.752814    42.640897\n",
       "6       7  3.157083    23.501941\n",
       "7       8  3.760667    42.977096\n",
       "8       9  3.178656    24.014448\n",
       "9      10  1.446373     4.247682"
      ]
     },
     "execution_count": 163,
     "metadata": {},
     "output_type": "execute_result"
    }
   ],
   "source": [
    "result_df_roberta = pd.DataFrame({'Epochs' : range(1,11),\n",
    "                         'Loss' : roberta_data})\n",
    "\n",
    "result_df_roberta['perplexity'] = result_df_roberta['Loss'].apply(lambda x : np.exp(x))\n",
    "result_df_roberta"
   ]
  },
  {
   "cell_type": "markdown",
   "id": "200465e5",
   "metadata": {},
   "source": [
    "## Roberta Model Training Loss"
   ]
  },
  {
   "cell_type": "code",
   "execution_count": 168,
   "id": "6fede0ec",
   "metadata": {},
   "outputs": [
    {
     "data": {
      "text/html": [
       "<div>\n",
       "<style scoped>\n",
       "    .dataframe tbody tr th:only-of-type {\n",
       "        vertical-align: middle;\n",
       "    }\n",
       "\n",
       "    .dataframe tbody tr th {\n",
       "        vertical-align: top;\n",
       "    }\n",
       "\n",
       "    .dataframe thead th {\n",
       "        text-align: right;\n",
       "    }\n",
       "</style>\n",
       "<table border=\"1\" class=\"dataframe\">\n",
       "  <thead>\n",
       "    <tr style=\"text-align: right;\">\n",
       "      <th></th>\n",
       "      <th>Epochs</th>\n",
       "      <th>Loss</th>\n",
       "      <th>perplexity</th>\n",
       "    </tr>\n",
       "  </thead>\n",
       "  <tbody>\n",
       "    <tr>\n",
       "      <th>0</th>\n",
       "      <td>1</td>\n",
       "      <td>7.140338</td>\n",
       "      <td>1261.854682</td>\n",
       "    </tr>\n",
       "    <tr>\n",
       "      <th>1</th>\n",
       "      <td>2</td>\n",
       "      <td>7.758777</td>\n",
       "      <td>2342.039501</td>\n",
       "    </tr>\n",
       "    <tr>\n",
       "      <th>2</th>\n",
       "      <td>3</td>\n",
       "      <td>6.209717</td>\n",
       "      <td>497.560503</td>\n",
       "    </tr>\n",
       "    <tr>\n",
       "      <th>3</th>\n",
       "      <td>4</td>\n",
       "      <td>6.036339</td>\n",
       "      <td>418.358813</td>\n",
       "    </tr>\n",
       "    <tr>\n",
       "      <th>4</th>\n",
       "      <td>5</td>\n",
       "      <td>5.136130</td>\n",
       "      <td>170.056319</td>\n",
       "    </tr>\n",
       "    <tr>\n",
       "      <th>5</th>\n",
       "      <td>6</td>\n",
       "      <td>3.752814</td>\n",
       "      <td>42.640897</td>\n",
       "    </tr>\n",
       "    <tr>\n",
       "      <th>6</th>\n",
       "      <td>7</td>\n",
       "      <td>3.157083</td>\n",
       "      <td>23.501941</td>\n",
       "    </tr>\n",
       "    <tr>\n",
       "      <th>7</th>\n",
       "      <td>8</td>\n",
       "      <td>3.760667</td>\n",
       "      <td>42.977096</td>\n",
       "    </tr>\n",
       "    <tr>\n",
       "      <th>8</th>\n",
       "      <td>9</td>\n",
       "      <td>3.178656</td>\n",
       "      <td>24.014448</td>\n",
       "    </tr>\n",
       "    <tr>\n",
       "      <th>9</th>\n",
       "      <td>10</td>\n",
       "      <td>1.446373</td>\n",
       "      <td>4.247682</td>\n",
       "    </tr>\n",
       "  </tbody>\n",
       "</table>\n",
       "</div>"
      ],
      "text/plain": [
       "   Epochs      Loss   perplexity\n",
       "0       1  7.140338  1261.854682\n",
       "1       2  7.758777  2342.039501\n",
       "2       3  6.209717   497.560503\n",
       "3       4  6.036339   418.358813\n",
       "4       5  5.136130   170.056319\n",
       "5       6  3.752814    42.640897\n",
       "6       7  3.157083    23.501941\n",
       "7       8  3.760667    42.977096\n",
       "8       9  3.178656    24.014448\n",
       "9      10  1.446373     4.247682"
      ]
     },
     "execution_count": 168,
     "metadata": {},
     "output_type": "execute_result"
    }
   ],
   "source": [
    "result_df_roberta"
   ]
  },
  {
   "cell_type": "code",
   "execution_count": 34,
   "id": "bcfbe14e",
   "metadata": {},
   "outputs": [
    {
     "data": {
      "text/plain": [
       "[WordPredictionResult(token='want', score=0.33324864506721497)]"
      ]
     },
     "execution_count": 34,
     "metadata": {},
     "output_type": "execute_result"
    }
   ],
   "source": [
    "happy_wp.predict_mask('What do you [MASK] to achieve?')"
   ]
  },
  {
   "cell_type": "code",
   "execution_count": 19,
   "id": "f53d34e8",
   "metadata": {},
   "outputs": [
    {
     "data": {
      "text/plain": [
       "[WordPredictionResult(token='football', score=0.2212836891412735),\n",
       " WordPredictionResult(token='patriots', score=0.050916995853185654),\n",
       " WordPredictionResult(token='mets', score=0.04337412863969803),\n",
       " WordPredictionResult(token='yankees', score=0.038530077785253525),\n",
       " WordPredictionResult(token='giants', score=0.024569109082221985),\n",
       " WordPredictionResult(token='steelers', score=0.023712454363703728),\n",
       " WordPredictionResult(token='big', score=0.021356742829084396),\n",
       " WordPredictionResult(token='sports', score=0.019643742591142654),\n",
       " WordPredictionResult(token='baseball', score=0.019318172708153725),\n",
       " WordPredictionResult(token='philadelphia', score=0.013063603080809116)]"
      ]
     },
     "execution_count": 19,
     "metadata": {},
     "output_type": "execute_result"
    }
   ],
   "source": [
    "happy_wp.predict_mask(\"Whether you’re a [MASK] fan or not, what do you like about Super Bowl Sunday?\",top_k = 10)"
   ]
  },
  {
   "cell_type": "code",
   "execution_count": 4,
   "id": "87395887",
   "metadata": {},
   "outputs": [
    {
     "data": {
      "text/plain": [
       "[WordPredictionResult(token='football', score=0.19990402460098267),\n",
       " WordPredictionResult(token='mets', score=0.04293298348784447),\n",
       " WordPredictionResult(token='yankees', score=0.03869093954563141),\n",
       " WordPredictionResult(token='sports', score=0.030451619997620583),\n",
       " WordPredictionResult(token='super', score=0.029325129464268684),\n",
       " WordPredictionResult(token='big', score=0.02295086719095707),\n",
       " WordPredictionResult(token='huge', score=0.02233283966779709),\n",
       " WordPredictionResult(token='baseball', score=0.02199205383658409),\n",
       " WordPredictionResult(token='patriots', score=0.016061268746852875),\n",
       " WordPredictionResult(token='trump', score=0.014306197874248028)]"
      ]
     },
     "execution_count": 4,
     "metadata": {},
     "output_type": "execute_result"
    }
   ],
   "source": [
    "happy_wp.predict_mask(\"Whether you’re a [MASK] fan or not, what do you like about Super Bowl Sunday?\",top_k = 10)"
   ]
  },
  {
   "cell_type": "code",
   "execution_count": 5,
   "id": "ec157748",
   "metadata": {},
   "outputs": [
    {
     "data": {
      "text/plain": [
       "[WordPredictionResult(token='door', score=0.07631545513868332),\n",
       " WordPredictionResult(token='wheel', score=0.05655690282583237),\n",
       " WordPredictionResult(token='desk', score=0.0386175699532032),\n",
       " WordPredictionResult(token='counter', score=0.02867591567337513),\n",
       " WordPredictionResult(token='table', score=0.021399453282356262),\n",
       " WordPredictionResult(token='curtain', score=0.017598211765289307),\n",
       " WordPredictionResult(token='wall', score=0.015271885320544243),\n",
       " WordPredictionResult(token='camera', score=0.011721779592335224),\n",
       " WordPredictionResult(token='window', score=0.010755416937172413),\n",
       " WordPredictionResult(token='corner', score=0.010321044363081455)]"
      ]
     },
     "execution_count": 5,
     "metadata": {},
     "output_type": "execute_result"
    }
   ],
   "source": [
    "happy_wp.predict_mask(\"Whose hand is busy behind the [MASK]?\",top_k = 10)"
   ]
  },
  {
   "cell_type": "code",
   "execution_count": 6,
   "id": "b77aa85e",
   "metadata": {},
   "outputs": [
    {
     "data": {
      "text/plain": [
       "[WordPredictionResult(token='good', score=0.5170599818229675),\n",
       " WordPredictionResult(token='bad', score=0.250016450881958),\n",
       " WordPredictionResult(token='great', score=0.026395078748464584),\n",
       " WordPredictionResult(token='right', score=0.0131422383710742),\n",
       " WordPredictionResult(token='crazy', score=0.010699343867599964),\n",
       " WordPredictionResult(token='wise', score=0.010435260832309723),\n",
       " WordPredictionResult(token='terrible', score=0.008386646397411823),\n",
       " WordPredictionResult(token='better', score=0.006799934431910515),\n",
       " WordPredictionResult(token='real', score=0.006471180822700262),\n",
       " WordPredictionResult(token='big', score=0.00597213814035058)]"
      ]
     },
     "execution_count": 6,
     "metadata": {},
     "output_type": "execute_result"
    }
   ],
   "source": [
    "happy_wp.predict_mask(\"I don't think it is a [MASK] idea?\",top_k = 10)"
   ]
  },
  {
   "cell_type": "code",
   "execution_count": 7,
   "id": "ac2e16c4",
   "metadata": {},
   "outputs": [
    {
     "data": {
      "text/plain": [
       "[WordPredictionResult(token='home', score=0.07270095497369766),\n",
       " WordPredictionResult(token='day', score=0.03379082307219505),\n",
       " WordPredictionResult(token='job', score=0.033371806144714355),\n",
       " WordPredictionResult(token='test', score=0.03258473053574562),\n",
       " WordPredictionResult(token='place', score=0.02559639699757099),\n",
       " WordPredictionResult(token='present', score=0.01687128283083439),\n",
       " WordPredictionResult(token='problem', score=0.01579517498612404),\n",
       " WordPredictionResult(token='ride', score=0.0157153457403183),\n",
       " WordPredictionResult(token='treat', score=0.013776817359030247),\n",
       " WordPredictionResult(token='thing', score=0.012804425321519375)]"
      ]
     },
     "execution_count": 7,
     "metadata": {},
     "output_type": "execute_result"
    }
   ],
   "source": [
    "happy_wp.predict_mask(\"I don't think it should be a [MASK] for me?\",top_k = 10)"
   ]
  }
 ],
 "metadata": {
  "kernelspec": {
   "display_name": "Python 3.9 (tensorflow)",
   "language": "python",
   "name": "tensorflow"
  },
  "language_info": {
   "codemirror_mode": {
    "name": "ipython",
    "version": 3
   },
   "file_extension": ".py",
   "mimetype": "text/x-python",
   "name": "python",
   "nbconvert_exporter": "python",
   "pygments_lexer": "ipython3",
   "version": "3.9.13"
  }
 },
 "nbformat": 4,
 "nbformat_minor": 5
}
