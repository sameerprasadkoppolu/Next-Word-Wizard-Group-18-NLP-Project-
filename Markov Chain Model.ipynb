{
 "cells": [
  {
   "cell_type": "code",
   "execution_count": 7,
   "id": "6d759457",
   "metadata": {},
   "outputs": [],
   "source": [
    "import tensorflow as tf\n",
    "from tensorflow.keras.preprocessing.sequence import pad_sequences\n",
    "from tensorflow.keras.layers import Embedding, LSTM, Dense, Bidirectional\n",
    "from tensorflow.keras.preprocessing.text import Tokenizer\n",
    "from tensorflow.keras.models import Sequential\n",
    "from tensorflow.keras.optimizers import Adam\n",
    "import numpy as np\n",
    "import pandas as pd"
   ]
  },
  {
   "cell_type": "code",
   "execution_count": 8,
   "id": "7dc953d6",
   "metadata": {},
   "outputs": [],
   "source": [
    "with open('merged_articles.txt','r') as f:\n",
    "    corpus = f.read()\n",
    "training_doc1 = corpus.replace(\"\\n\",' ')"
   ]
  },
  {
   "cell_type": "code",
   "execution_count": 12,
   "id": "33db9113",
   "metadata": {},
   "outputs": [],
   "source": [
    "import re\n",
    "from nltk.tokenize import word_tokenize\n",
    "from collections import defaultdict, Counter\n",
    "\n",
    "class MarkovChain:\n",
    "    def __init__(self):\n",
    "        self.lookup_dict = defaultdict(list)  \n",
    "\n",
    "    def add_document(self, text):\n",
    "        preprocessed_list = self._preprocess(text)\n",
    "        pairs = self.__generate_tuple_keys(preprocessed_list)\n",
    "        for pair in pairs:\n",
    "            self.lookup_dict[pair[0]].append(pair[1])\n",
    "        pairs2 = self.__generate_2tuple_keys(preprocessed_list)\n",
    "        for pair in pairs2:\n",
    "            self.lookup_dict[tuple([pair[0], pair[1]])].append(pair[2])\n",
    "        pairs3 = self.__generate_3tuple_keys(preprocessed_list)\n",
    "        for pair in pairs3:\n",
    "            self.lookup_dict[tuple([pair[0], pair[1], pair[2]])].append(pair[3])\n",
    "\n",
    "    def _preprocess(self, text):\n",
    "        cleaned = re.sub(r'\\W+', ' ', text).lower()\n",
    "        tokenized = word_tokenize(cleaned)\n",
    "        return tokenized\n",
    "\n",
    "    def __generate_tuple_keys(self, data):\n",
    "        if len(data) < 1:\n",
    "            return\n",
    "\n",
    "        for i in range(len(data) - 1):\n",
    "            yield [ data[i], data[i + 1] ]\n",
    "\n",
    "    def __generate_2tuple_keys(self, data):\n",
    "        if len(data) < 2:\n",
    "            return\n",
    "\n",
    "        for i in range(len(data) - 2):\n",
    "            yield [ data[i], data[i + 1], data[i+2] ]\n",
    "\n",
    "\n",
    "    def __generate_3tuple_keys(self, data):\n",
    "        if len(data) < 3:\n",
    "            return\n",
    "\n",
    "        for i in range(len(data) - 3):\n",
    "            yield [ data[i], data[i + 1], data[i+2], data[i+3] ]\n",
    "\n",
    "    def suggest_one_word(self, word):\n",
    "        return Counter(self.lookup_dict[word]).most_common()[:3]\n",
    "\n",
    "    def suggest_two_words(self, words):\n",
    "        suggestions = Counter(self.lookup_dict[tuple(words)]).most_common()[:3]\n",
    "        if len(suggestions)==0:\n",
    "            return self.suggest_one_word(words[-1])\n",
    "        return suggestions\n",
    "\n",
    "    def suggest_three_words(self, words):\n",
    "        suggestions = Counter(self.lookup_dict[tuple(words)]).most_common()[:3]\n",
    "        if len(suggestions)==0:\n",
    "            return self.suggest_two_words(words[-2:])\n",
    "        return suggestions\n",
    "\n",
    "    def suggest_more_words(self, words):\n",
    "        return self.suggest_three_words(words[-3:])\n",
    "\n",
    "    def generate_text(self, text):\n",
    "        if len(self.lookup_dict) > 0:\n",
    "            tokens = text.split(\" \")\n",
    "            if len(tokens)==1:\n",
    "                print(\"Next word suggestions:\", self.suggest_one_word(text))\n",
    "            elif len(tokens)==2:\n",
    "                print(\"Next word suggestions:\", self.suggest_two_words(text.split(\" \")))\n",
    "            elif len(tokens)==3:\n",
    "                print(\"Next word suggestions:\", self.suggest_three_words(text.split(\" \")))\n",
    "            elif len(tokens)>3:\n",
    "                print(\"Next word suggestions:\", self.suggest_more_words(text.split(\" \")))\n",
    "        return"
   ]
  },
  {
   "cell_type": "code",
   "execution_count": 31,
   "id": "29944bd0",
   "metadata": {},
   "outputs": [
    {
     "name": "stdout",
     "output_type": "stream",
     "text": [
      "Enter the sentence to generate next word prediction: What\n",
      "Possible next words are:\n",
      "Next word suggestions: [('do', 58), ('you', 50), ('is', 49)]\n",
      "------------------------------------------------------------\n",
      "Enter the sentence to generate next word prediction: What do you want\n",
      "Possible next words are:\n",
      "Next word suggestions: [('to', 1)]\n",
      "------------------------------------------------------------\n",
      "Enter the sentence to generate next word prediction: quit\n",
      "Testing is done\n"
     ]
    }
   ],
   "source": [
    "while True:\n",
    "    my_markov = MarkovChain()\n",
    "    my_markov.add_document(training_doc1)\n",
    "    text = input(\"Enter the sentence to generate next word prediction: \").lower()\n",
    "    if text.strip() == '' or text.strip() == 'quit':\n",
    "        print(\"Testing is done\")\n",
    "        break\n",
    "    else:\n",
    "        print(\"Possible next words are:\")\n",
    "        my_markov.generate_text(text)\n",
    "        print(\"--\"*30)t"
   ]
  }
 ],
 "metadata": {
  "kernelspec": {
   "display_name": "Python 3.9 (tensorflow)",
   "language": "python",
   "name": "tensorflow"
  },
  "language_info": {
   "codemirror_mode": {
    "name": "ipython",
    "version": 3
   },
   "file_extension": ".py",
   "mimetype": "text/x-python",
   "name": "python",
   "nbconvert_exporter": "python",
   "pygments_lexer": "ipython3",
   "version": "3.9.13"
  }
 },
 "nbformat": 4,
 "nbformat_minor": 5
}
